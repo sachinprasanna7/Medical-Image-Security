{
 "cells": [
  {
   "cell_type": "code",
   "execution_count": 1,
   "metadata": {},
   "outputs": [],
   "source": [
    "import cv2\n",
    "import numpy as np\n",
    "import matplotlib.pyplot as plt\n",
    "import pywt\n",
    "from modules.rdwt import rdwt\n",
    "from modules.rsvd import rsvd"
   ]
  },
  {
   "cell_type": "code",
   "execution_count": 2,
   "metadata": {},
   "outputs": [],
   "source": [
    "def algorithm_1(path1, path2):\n",
    "\n",
    "    img1 = cv2.imread(path1, 0)\n",
    "    img2 = cv2.imread(path2, 0)\n",
    "\n",
    "    A1, B1, C1, D1 = rdwt(img1)\n",
    "    A2, B2, C2, D2 = rdwt(img2)\n",
    "\n",
    "\n",
    "    Uh, Sh, Vh = rsvd(D1, 200)  # target rank is 200\n",
    "    Uw, Sw, Vw = rsvd(D2, 200)  # target rank is 200\n",
    "\n",
    "    covariance_matrix = np.cov(Sh, Sw)\n",
    "\n",
    "    eigenvalues, eigenvectors = np.linalg.eig(covariance_matrix)\n",
    "\n",
    "    # Sorting the eigenvalues in descending order and the eigenvectors will rearrange accordingly.\n",
    "    sorted_indices = np.argsort(eigenvalues)[::-1]\n",
    "    eigenvalues = eigenvalues[sorted_indices]\n",
    "    eigenvectors = eigenvectors[:, sorted_indices]\n",
    "\n",
    "    diag = np.diag(eigenvalues)\n",
    "\n",
    "    if(diag[0][0] > diag[1][1]):\n",
    "        PC1 = eigenvectors[0][0]/(eigenvectors[0][0] + eigenvectors[1][0])\n",
    "        PC2 = eigenvectors[1][0]/(eigenvectors[0][0] + eigenvectors[1][0])\n",
    "\n",
    "    else:\n",
    "        PC1 = eigenvectors[0][1]/(eigenvectors[0][1] + eigenvectors[1][1])\n",
    "        PC2 = eigenvectors[1][1]/(eigenvectors[0][1] + eigenvectors[1][1])\n",
    "\n",
    "    return PC1, PC2"
   ]
  },
  {
   "cell_type": "code",
   "execution_count": 3,
   "metadata": {},
   "outputs": [],
   "source": [
    "path1 = 'cameraman.png'\n",
    "path2 = 'star.png'"
   ]
  },
  {
   "cell_type": "code",
   "execution_count": 4,
   "metadata": {},
   "outputs": [
    {
     "data": {
      "text/plain": [
       "(0.21693511981078767, 0.7830648801892123)"
      ]
     },
     "execution_count": 4,
     "metadata": {},
     "output_type": "execute_result"
    }
   ],
   "source": [
    "algorithm_1(path1, path2)"
   ]
  },
  {
   "cell_type": "code",
   "execution_count": null,
   "metadata": {},
   "outputs": [],
   "source": []
  }
 ],
 "metadata": {
  "kernelspec": {
   "display_name": "Python 3",
   "language": "python",
   "name": "python3"
  },
  "language_info": {
   "codemirror_mode": {
    "name": "ipython",
    "version": 3
   },
   "file_extension": ".py",
   "mimetype": "text/x-python",
   "name": "python",
   "nbconvert_exporter": "python",
   "pygments_lexer": "ipython3",
   "version": "3.10.4"
  }
 },
 "nbformat": 4,
 "nbformat_minor": 2
}
